{
 "cells": [
  {
   "cell_type": "code",
   "execution_count": null,
   "id": "33f9b670",
   "metadata": {},
   "outputs": [],
   "source": [
    "#Elaboração de um Quiz com perguntas e respostas\n",
    "print('Quiz de perguntas em Gerais!!')\n",
    "nome = input('Digite seu nome para começar o quiz: ')\n",
    "acertos = 0\n",
    "print('*******************')\n",
    "print('O Quiz será iniciado!!')\n",
    "print('*******************')\n",
    "perguntas = { 'Pergunta 1':{\n",
    "    'pergunta': 'Qual Estado não é do Nordeste? ',\n",
    "    'respostas':{'A':'Paraíba', 'B':'Maranhão', 'C':'Alagoas','D':'Pará'}, 'resposta_certa':'D'\n",
    "}, 'Pergunta 2':{\n",
    "    'pergunta': 'Qual país venceu mais copas',\n",
    "    'respostas':{'A':'Alemanha', 'B':'Brasil', 'C':'França','D':'Itália'}, 'resposta_certa':'B'\n",
    "},  'Pergunta 3':{\n",
    "    'pergunta': 'Quem fundou a Apple?',\n",
    "    'respostas':{'A':'Bill Gates', 'B':'Stephen Hawking', 'C':'Steve Jobs','D':'Elon Musk'}, 'resposta_certa':'C'\n",
    "},  'Pergunta 4':{\n",
    "    'pergunta': 'Quem fundou a Microsoft?',\n",
    "    'respostas':{'A':'Bill Gates', 'B':'Stephen Hawking', 'C':'Steve Jobs','D':'Elon Musk'}, 'resposta_certa':'A'\n",
    "},  'Pergunta 5':{\n",
    "    'pergunta': 'Qual o nome do atual presidente dos Estados Unidos?',\n",
    "    'respostas':{'A':'George W Bush', 'B':'Barack Obama', 'C':'Donald Trump','D':'Joe Biden'}, 'resposta_certa':'D'\n",
    "}\n",
    "   \n",
    "                             \n",
    "}\n",
    "for perg_key, perg_resp in perguntas.items():\n",
    "    print(f'{perg_key}: {perg_resp[\"pergunta\"]}')\n",
    "    for resp_key, resp_value in perg_resp['respostas'].items():\n",
    "        print(f'{resp_key}) {resp_value}\\n')\n",
    "    \n",
    "    resposta_user = input('Sua resposta: ')\n",
    "    if resposta_user.upper() == perg_resp['resposta_certa']:\n",
    "        acertos +=1\n",
    "        print('Correto!!!!!')\n",
    "    else:\n",
    "        print('Incorreta!!!!!')\n",
    "    \n",
    "    print()\n",
    "\n",
    "qtd_perguntas = len(perguntas)\n",
    "percentual = acertos / qtd_perguntas * 100\n",
    "print('''Parabéns por completar o teste {}Seu percentual de acertos foi de {}%\n",
    "você acertou um total de {} perguntas'''.format(nome, percentual, acertos))\n"
   ]
  }
 ],
 "metadata": {
  "kernelspec": {
   "display_name": "Python 3 (ipykernel)",
   "language": "python",
   "name": "python3"
  },
  "language_info": {
   "codemirror_mode": {
    "name": "ipython",
    "version": 3
   },
   "file_extension": ".py",
   "mimetype": "text/x-python",
   "name": "python",
   "nbconvert_exporter": "python",
   "pygments_lexer": "ipython3",
   "version": "3.9.7"
  }
 },
 "nbformat": 4,
 "nbformat_minor": 5
}
